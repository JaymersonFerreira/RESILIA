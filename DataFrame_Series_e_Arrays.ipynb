{
  "nbformat": 4,
  "nbformat_minor": 0,
  "metadata": {
    "colab": {
      "provenance": [],
      "authorship_tag": "ABX9TyOse/MPrtGaKMxUIxpeZoTP",
      "include_colab_link": true
    },
    "kernelspec": {
      "name": "python3",
      "display_name": "Python 3"
    },
    "language_info": {
      "name": "python"
    }
  },
  "cells": [
    {
      "cell_type": "markdown",
      "metadata": {
        "id": "view-in-github",
        "colab_type": "text"
      },
      "source": [
        "<a href=\"https://colab.research.google.com/github/JaymersonFerreira/RESILIA/blob/main/DataFrame_Series_e_Arrays.ipynb\" target=\"_parent\"><img src=\"https://colab.research.google.com/assets/colab-badge.svg\" alt=\"Open In Colab\"/></a>"
      ]
    },
    {
      "cell_type": "markdown",
      "source": [
        "# <font color = orange>ARRAYS"
      ],
      "metadata": {
        "id": "aJkxwkb0qYhq"
      }
    },
    {
      "cell_type": "markdown",
      "source": [
        "- Array em Python são um estrutura de dados que permite armazenar e manipular coleções de elementos do mesmo tipo. Elas são úteis para trabalhar com matrizes, vetores e sequencias númericas, entre outros.\n",
        "- Em python, Existem várias bibliotecas que oferecem suporte a Array, como Numpy e Array. A biclioteca Numpy é amplamente utilizada para a manipulação de dados numéricos.\n",
        "\n",
        "- Para criar um Arrayem NumPy, você pode usar a função array(), passando uma lista ou tupla de elementos como argumento:"
      ],
      "metadata": {
        "id": "7KrDpqaztpRU"
      }
    },
    {
      "cell_type": "code",
      "source": [
        "import numpy as np\n",
        "\n",
        "a = np.array([1,2,3,4,5])\n",
        "print(a)"
      ],
      "metadata": {
        "colab": {
          "base_uri": "https://localhost:8080/"
        },
        "id": "CgQ_NfFWu1_F",
        "outputId": "9c4dd861-5a7e-426d-9c1b-429d2438ecfc"
      },
      "execution_count": 2,
      "outputs": [
        {
          "output_type": "stream",
          "name": "stdout",
          "text": [
            "[1 2 3 4 5]\n"
          ]
        }
      ]
    },
    {
      "cell_type": "markdown",
      "source": [
        "- Nesse exemplo, a variável ***a*** é um Array NumPy com elementos 1,2,3,4 e 5. Você pode acesar os elementos do Array usnado a notação de colchetes,\n",
        "coo em a[0], para acessar o primeiro elemento.\n",
        "\n",
        "- NumPy também oferece muitas funções para criar Arrays preenchidos com valores padrão, com zeros(), ones(), full() e arange(). Por exemplo, para criar um Array de zeros com 5 elementos, você usar o seguinte código:\n"
      ],
      "metadata": {
        "id": "fU5dTPqwvKAZ"
      }
    },
    {
      "cell_type": "code",
      "source": [
        "b = np.zeros(5)\n",
        "print(b)"
      ],
      "metadata": {
        "colab": {
          "base_uri": "https://localhost:8080/"
        },
        "id": "2rDVfsLcwa8k",
        "outputId": "ebdde304-510c-4221-e10a-a63c0273b1d0"
      },
      "execution_count": null,
      "outputs": [
        {
          "output_type": "stream",
          "name": "stdout",
          "text": [
            "[0. 0. 0. 0. 0.]\n"
          ]
        }
      ]
    },
    {
      "cell_type": "code",
      "source": [
        "c = np.ones(3)\n",
        "print(c)"
      ],
      "metadata": {
        "colab": {
          "base_uri": "https://localhost:8080/"
        },
        "id": "midGthVwwowQ",
        "outputId": "49cf752e-e121-4b30-c62e-716592369a4f"
      },
      "execution_count": null,
      "outputs": [
        {
          "output_type": "stream",
          "name": "stdout",
          "text": [
            "[1. 1. 1.]\n"
          ]
        }
      ]
    },
    {
      "cell_type": "code",
      "source": [
        "d = np.arange(6)\n",
        "print(d)"
      ],
      "metadata": {
        "colab": {
          "base_uri": "https://localhost:8080/"
        },
        "id": "hoR7oCl_wooh",
        "outputId": "b2c23888-2f26-4967-e939-7739b59f9ebe"
      },
      "execution_count": null,
      "outputs": [
        {
          "output_type": "stream",
          "name": "stdout",
          "text": [
            "[0 1 2 3 4 5]\n"
          ]
        }
      ]
    },
    {
      "cell_type": "markdown",
      "source": [
        "- Para criar um Array com valores sequeciais, você pode usar função arange, como em np.arange(0, 10, 2) para criar array com valores de 0 a 10 (excluiva) com um intervalo de 2.\n"
      ],
      "metadata": {
        "id": "LpEpgsIvxsbr"
      }
    },
    {
      "cell_type": "code",
      "source": [
        "e = np.arange(0,10,2)\n",
        "print(e)"
      ],
      "metadata": {
        "colab": {
          "base_uri": "https://localhost:8080/"
        },
        "id": "CdI1IIe8yG54",
        "outputId": "e6126ae9-c04c-4858-ae4e-b8a5afe1798e"
      },
      "execution_count": null,
      "outputs": [
        {
          "output_type": "stream",
          "name": "stdout",
          "text": [
            "[0 2 4 6 8]\n"
          ]
        }
      ]
    },
    {
      "cell_type": "markdown",
      "source": [
        "- Além disso, NumPy oferece muitas funções para manipular e processar Arrays, como sum(), mean(),std(), max() e min(). Essas Funções permite realizar operações matemáticas em Array e obter estatísticas sobre seus valores.\n",
        "- Por exemplo, para calcular a média dos valores de um Array, você pode usar função mean(), como em np.mean(a).Para obter o valor máximo de array, você pode usar a função max(), como em np.max(a)"
      ],
      "metadata": {
        "id": "2Qdpu_b0yORM"
      }
    },
    {
      "cell_type": "code",
      "source": [
        "np.max(a)"
      ],
      "metadata": {
        "colab": {
          "base_uri": "https://localhost:8080/"
        },
        "id": "dtCux1ji1ERZ",
        "outputId": "a12a4874-943b-46c0-d0e8-533796cfa094"
      },
      "execution_count": 8,
      "outputs": [
        {
          "output_type": "execute_result",
          "data": {
            "text/plain": [
              "5"
            ]
          },
          "metadata": {},
          "execution_count": 8
        }
      ]
    },
    {
      "cell_type": "markdown",
      "source": [
        "- Numpy tabém oferece muitas funcionalidade para operações de álgebra linear,como multiplicadores de matrizes, inversão de matrizes e decomposição de valores singulares.\n",
        "- Como vimos, essa são apenas alguma das funcionalidades oferecidas pelo numpy para trabalhar com Array em Python. A biclioteca utilizada em ciência de dados, processamento de imagens, aprendizado de máquina e ooutra área que exigem manipulação de dados numéricos. Vamos dar uma olhada em outra estrutura fundamental para nossos estudos: Series!\n"
      ],
      "metadata": {
        "id": "3dkgoNLT1Ggi"
      }
    },
    {
      "cell_type": "markdown",
      "source": [
        "# <font color = orange>Series"
      ],
      "metadata": {
        "id": "3jFuigUM7PG_"
      }
    },
    {
      "cell_type": "markdown",
      "source": [
        "- Series em Python é um estrutura de dados que permite armazenar e manipular coleções de dados inidimencionais e rotulados. Ela é útil para trabalhar com dados de séries temporais, dados financeiros, dados de ações, entre outros.\n",
        "- Em Python, a biclioteca Pandas é amplamente utilizada para trabalhar com Series. Para criar um Series em padas, você pode usar a função **Series()**, passando uma lista de elementos como argumentos:\n"
      ],
      "metadata": {
        "id": "UwuA1Gkz7Shr"
      }
    },
    {
      "cell_type": "code",
      "source": [
        "import pandas as pd\n",
        "\n",
        "s = pd.Series([1,2,3,4,5])\n",
        "print(s)"
      ],
      "metadata": {
        "colab": {
          "base_uri": "https://localhost:8080/"
        },
        "id": "gyr3EGKu8Agn",
        "outputId": "2038ea14-b334-41aa-a62a-3b5d1f2297fc"
      },
      "execution_count": 3,
      "outputs": [
        {
          "output_type": "stream",
          "name": "stdout",
          "text": [
            "0    1\n",
            "1    2\n",
            "2    3\n",
            "3    4\n",
            "4    5\n",
            "dtype: int64\n"
          ]
        }
      ]
    },
    {
      "cell_type": "markdown",
      "source": [
        "-  Nesse exemplo, a variável é uma Series com os elementos 1,2,3,4 e 5. A diferença etre uma **lista** e uma **Series** é que esta tem um índice associado a cada elemento, que pode ser usado para acessar os elementos individualmente.\n",
        "- Você pode acessar os elementos da Series usando a notação de colchete como em **s[0]**, para acessar o primeiro elemento. Também é possivel acessar vários elemtnos de uma vez, como em **s[0:3]** para acessar os elementos de índice 0 a 2.\n",
        "- Panda também oferece muitos funcionalidades para criar e manipular Series de forma eficiente. Por exemplo, você pode crir uma Series com valores sequenciais usando a funçãi **range()** e a função Series():\n",
        "\n"
      ],
      "metadata": {
        "id": "a1JabZ8A8jdm"
      }
    },
    {
      "cell_type": "code",
      "source": [
        "s = pd.Series(range(1,6))\n",
        "print(s)"
      ],
      "metadata": {
        "colab": {
          "base_uri": "https://localhost:8080/"
        },
        "id": "6A0F_UkJh_5Q",
        "outputId": "9202ff4d-e8eb-43ba-9f8f-d7b6536ad8e8"
      },
      "execution_count": 4,
      "outputs": [
        {
          "output_type": "stream",
          "name": "stdout",
          "text": [
            "0    1\n",
            "1    2\n",
            "2    3\n",
            "3    4\n",
            "4    5\n",
            "dtype: int64\n"
          ]
        }
      ]
    },
    {
      "cell_type": "markdown",
      "source": [
        "Para criar uma Series com **rótulo personalizado**, você pode usar a função Series() e passar uma lista de rótumos como argumentos."
      ],
      "metadata": {
        "id": "IUe6M5h0iWOQ"
      }
    },
    {
      "cell_type": "code",
      "source": [
        "s = pd.Series([1,2,3,4,5], index=['a','b','c','d','e'])\n",
        "print(s)"
      ],
      "metadata": {
        "colab": {
          "base_uri": "https://localhost:8080/"
        },
        "id": "IyCekoBnjxEY",
        "outputId": "9dfc1b0d-1e06-4347-9091-31d6caa33df2"
      },
      "execution_count": 5,
      "outputs": [
        {
          "output_type": "stream",
          "name": "stdout",
          "text": [
            "a    1\n",
            "b    2\n",
            "c    3\n",
            "d    4\n",
            "e    5\n",
            "dtype: int64\n"
          ]
        }
      ]
    },
    {
      "cell_type": "markdown",
      "source": [
        "- Nesse exemplo, a Series tem rótulos personalizados para cada elemento: 'a' para 1, 'b' para 2, 'c' para 3, 'd' para 4 e 'e' para 5. Você pode acessar os elementos uando os rótulos, como em **s['a']**."
      ],
      "metadata": {
        "id": "iNJCs7TvkEWF"
      }
    },
    {
      "cell_type": "markdown",
      "source": [
        "- Pandas também oferece muitas funções para manipular e processar Series, como **sum()**, **mean()**, **std()**, **max()** e **min()**. Essas funções permitem realizar operações matemáticas em Series e obter **estatisticas** sobre seus valores.\n",
        "- Por exemplo: para calcular a média dos valores de uma Series você pode usar a função **mean()**, como em **s.mean()**. Para obter o valor máximo da Series, você pode usar a função **max()**, como em **s.max()**"
      ],
      "metadata": {
        "id": "_j1KwGPEkkns"
      }
    },
    {
      "cell_type": "code",
      "source": [
        "s.max()"
      ],
      "metadata": {
        "colab": {
          "base_uri": "https://localhost:8080/"
        },
        "id": "zhVFqv5zmHH8",
        "outputId": "ecbbc588-762e-47ed-f936-2d9abb3d389f"
      },
      "execution_count": 6,
      "outputs": [
        {
          "output_type": "execute_result",
          "data": {
            "text/plain": [
              "5"
            ]
          },
          "metadata": {},
          "execution_count": 6
        }
      ]
    },
    {
      "cell_type": "markdown",
      "source": [
        "- Pandas também oferece muitas funcionalidades para operações de **agregação**, como agrupamento de dados, agregação de dados e resumos estatísticos\n",
        "- Como vimos, essas são apenas algumas das funcionalidade oferecidas pelo Pandas para trabalhar com Series em Python. Vamos conferir agora os dataframes, estrutura semelhante, mas em duas dimenções."
      ],
      "metadata": {
        "id": "vOj3ywBin5oe"
      }
    },
    {
      "cell_type": "markdown",
      "source": [
        "# <font color = orange>DATAFRAMES"
      ],
      "metadata": {
        "id": "5-WiyQpRpQ2f"
      }
    },
    {
      "cell_type": "markdown",
      "source": [
        "- Dataframes em Python são uma estrutura de dados bidimencional organizada em linha e colunas, semelhante a uma tabela de banco de dados ou a uma planilha do Excel. É uma das estruturas de dados mais utilizadas na análise e na manipulação de dados em Python.\n",
        "- Existem várias bibliotecas em Python que oferecem suporte à criação e à manipulação de dataframes, mas a mais comun é a biclioteca Pandas.\n",
        "- Para criar uma dataframa em Pandas, você pode usar a funções DataFrame(), que permite criar um dataframe a partir de **diferentes tipos de dados**, como listas, dicionarios e arquivos CSV.\n",
        "- Por exemplo, para criar um dataframe a partir de uma lista de dicionarios, você pode usar o seguinte código:"
      ],
      "metadata": {
        "id": "4orLrtmypnY6"
      }
    },
    {
      "cell_type": "code",
      "source": [
        "import pandas as pd\n",
        "dados = [\n",
        "    {'nome': 'João', 'idade': 30, 'cidade':'São Paulo'},\n",
        "    {'nome': 'Maria', 'idade': 25, 'cidade':'Rio de Janeiro'},\n",
        "    {'nome': 'Pedro', 'idade': 40, 'cidade':'Belo horizonte'}\n",
        "\n",
        "]\n",
        "df = pd.DataFrame(dados)\n",
        "df"
      ],
      "metadata": {
        "colab": {
          "base_uri": "https://localhost:8080/",
          "height": 143
        },
        "id": "9dSX6I2VsRUW",
        "outputId": "85b7529a-31ce-4711-b999-c26ea98000d7"
      },
      "execution_count": 10,
      "outputs": [
        {
          "output_type": "execute_result",
          "data": {
            "text/plain": [
              "    nome  idade          cidade\n",
              "0   João     30       São Paulo\n",
              "1  Maria     25  Rio de Janeiro\n",
              "2  Pedro     40  Belo horizonte"
            ],
            "text/html": [
              "\n",
              "\n",
              "  <div id=\"df-af3726ce-fc43-4944-b344-18aa46d229d9\">\n",
              "    <div class=\"colab-df-container\">\n",
              "      <div>\n",
              "<style scoped>\n",
              "    .dataframe tbody tr th:only-of-type {\n",
              "        vertical-align: middle;\n",
              "    }\n",
              "\n",
              "    .dataframe tbody tr th {\n",
              "        vertical-align: top;\n",
              "    }\n",
              "\n",
              "    .dataframe thead th {\n",
              "        text-align: right;\n",
              "    }\n",
              "</style>\n",
              "<table border=\"1\" class=\"dataframe\">\n",
              "  <thead>\n",
              "    <tr style=\"text-align: right;\">\n",
              "      <th></th>\n",
              "      <th>nome</th>\n",
              "      <th>idade</th>\n",
              "      <th>cidade</th>\n",
              "    </tr>\n",
              "  </thead>\n",
              "  <tbody>\n",
              "    <tr>\n",
              "      <th>0</th>\n",
              "      <td>João</td>\n",
              "      <td>30</td>\n",
              "      <td>São Paulo</td>\n",
              "    </tr>\n",
              "    <tr>\n",
              "      <th>1</th>\n",
              "      <td>Maria</td>\n",
              "      <td>25</td>\n",
              "      <td>Rio de Janeiro</td>\n",
              "    </tr>\n",
              "    <tr>\n",
              "      <th>2</th>\n",
              "      <td>Pedro</td>\n",
              "      <td>40</td>\n",
              "      <td>Belo horizonte</td>\n",
              "    </tr>\n",
              "  </tbody>\n",
              "</table>\n",
              "</div>\n",
              "      <button class=\"colab-df-convert\" onclick=\"convertToInteractive('df-af3726ce-fc43-4944-b344-18aa46d229d9')\"\n",
              "              title=\"Convert this dataframe to an interactive table.\"\n",
              "              style=\"display:none;\">\n",
              "\n",
              "  <svg xmlns=\"http://www.w3.org/2000/svg\" height=\"24px\"viewBox=\"0 0 24 24\"\n",
              "       width=\"24px\">\n",
              "    <path d=\"M0 0h24v24H0V0z\" fill=\"none\"/>\n",
              "    <path d=\"M18.56 5.44l.94 2.06.94-2.06 2.06-.94-2.06-.94-.94-2.06-.94 2.06-2.06.94zm-11 1L8.5 8.5l.94-2.06 2.06-.94-2.06-.94L8.5 2.5l-.94 2.06-2.06.94zm10 10l.94 2.06.94-2.06 2.06-.94-2.06-.94-.94-2.06-.94 2.06-2.06.94z\"/><path d=\"M17.41 7.96l-1.37-1.37c-.4-.4-.92-.59-1.43-.59-.52 0-1.04.2-1.43.59L10.3 9.45l-7.72 7.72c-.78.78-.78 2.05 0 2.83L4 21.41c.39.39.9.59 1.41.59.51 0 1.02-.2 1.41-.59l7.78-7.78 2.81-2.81c.8-.78.8-2.07 0-2.86zM5.41 20L4 18.59l7.72-7.72 1.47 1.35L5.41 20z\"/>\n",
              "  </svg>\n",
              "      </button>\n",
              "\n",
              "\n",
              "\n",
              "    <div id=\"df-63d3883d-6716-46a8-a24a-d651199bb264\">\n",
              "      <button class=\"colab-df-quickchart\" onclick=\"quickchart('df-63d3883d-6716-46a8-a24a-d651199bb264')\"\n",
              "              title=\"Suggest charts.\"\n",
              "              style=\"display:none;\">\n",
              "\n",
              "<svg xmlns=\"http://www.w3.org/2000/svg\" height=\"24px\"viewBox=\"0 0 24 24\"\n",
              "     width=\"24px\">\n",
              "    <g>\n",
              "        <path d=\"M19 3H5c-1.1 0-2 .9-2 2v14c0 1.1.9 2 2 2h14c1.1 0 2-.9 2-2V5c0-1.1-.9-2-2-2zM9 17H7v-7h2v7zm4 0h-2V7h2v10zm4 0h-2v-4h2v4z\"/>\n",
              "    </g>\n",
              "</svg>\n",
              "      </button>\n",
              "    </div>\n",
              "\n",
              "<style>\n",
              "  .colab-df-quickchart {\n",
              "    background-color: #E8F0FE;\n",
              "    border: none;\n",
              "    border-radius: 50%;\n",
              "    cursor: pointer;\n",
              "    display: none;\n",
              "    fill: #1967D2;\n",
              "    height: 32px;\n",
              "    padding: 0 0 0 0;\n",
              "    width: 32px;\n",
              "  }\n",
              "\n",
              "  .colab-df-quickchart:hover {\n",
              "    background-color: #E2EBFA;\n",
              "    box-shadow: 0px 1px 2px rgba(60, 64, 67, 0.3), 0px 1px 3px 1px rgba(60, 64, 67, 0.15);\n",
              "    fill: #174EA6;\n",
              "  }\n",
              "\n",
              "  [theme=dark] .colab-df-quickchart {\n",
              "    background-color: #3B4455;\n",
              "    fill: #D2E3FC;\n",
              "  }\n",
              "\n",
              "  [theme=dark] .colab-df-quickchart:hover {\n",
              "    background-color: #434B5C;\n",
              "    box-shadow: 0px 1px 3px 1px rgba(0, 0, 0, 0.15);\n",
              "    filter: drop-shadow(0px 1px 2px rgba(0, 0, 0, 0.3));\n",
              "    fill: #FFFFFF;\n",
              "  }\n",
              "</style>\n",
              "\n",
              "    <script>\n",
              "      async function quickchart(key) {\n",
              "        const containerElement = document.querySelector('#' + key);\n",
              "        const charts = await google.colab.kernel.invokeFunction(\n",
              "            'suggestCharts', [key], {});\n",
              "      }\n",
              "    </script>\n",
              "\n",
              "      <script>\n",
              "\n",
              "function displayQuickchartButton(domScope) {\n",
              "  let quickchartButtonEl =\n",
              "    domScope.querySelector('#df-63d3883d-6716-46a8-a24a-d651199bb264 button.colab-df-quickchart');\n",
              "  quickchartButtonEl.style.display =\n",
              "    google.colab.kernel.accessAllowed ? 'block' : 'none';\n",
              "}\n",
              "\n",
              "        displayQuickchartButton(document);\n",
              "      </script>\n",
              "      <style>\n",
              "    .colab-df-container {\n",
              "      display:flex;\n",
              "      flex-wrap:wrap;\n",
              "      gap: 12px;\n",
              "    }\n",
              "\n",
              "    .colab-df-convert {\n",
              "      background-color: #E8F0FE;\n",
              "      border: none;\n",
              "      border-radius: 50%;\n",
              "      cursor: pointer;\n",
              "      display: none;\n",
              "      fill: #1967D2;\n",
              "      height: 32px;\n",
              "      padding: 0 0 0 0;\n",
              "      width: 32px;\n",
              "    }\n",
              "\n",
              "    .colab-df-convert:hover {\n",
              "      background-color: #E2EBFA;\n",
              "      box-shadow: 0px 1px 2px rgba(60, 64, 67, 0.3), 0px 1px 3px 1px rgba(60, 64, 67, 0.15);\n",
              "      fill: #174EA6;\n",
              "    }\n",
              "\n",
              "    [theme=dark] .colab-df-convert {\n",
              "      background-color: #3B4455;\n",
              "      fill: #D2E3FC;\n",
              "    }\n",
              "\n",
              "    [theme=dark] .colab-df-convert:hover {\n",
              "      background-color: #434B5C;\n",
              "      box-shadow: 0px 1px 3px 1px rgba(0, 0, 0, 0.15);\n",
              "      filter: drop-shadow(0px 1px 2px rgba(0, 0, 0, 0.3));\n",
              "      fill: #FFFFFF;\n",
              "    }\n",
              "  </style>\n",
              "\n",
              "      <script>\n",
              "        const buttonEl =\n",
              "          document.querySelector('#df-af3726ce-fc43-4944-b344-18aa46d229d9 button.colab-df-convert');\n",
              "        buttonEl.style.display =\n",
              "          google.colab.kernel.accessAllowed ? 'block' : 'none';\n",
              "\n",
              "        async function convertToInteractive(key) {\n",
              "          const element = document.querySelector('#df-af3726ce-fc43-4944-b344-18aa46d229d9');\n",
              "          const dataTable =\n",
              "            await google.colab.kernel.invokeFunction('convertToInteractive',\n",
              "                                                     [key], {});\n",
              "          if (!dataTable) return;\n",
              "\n",
              "          const docLinkHtml = 'Like what you see? Visit the ' +\n",
              "            '<a target=\"_blank\" href=https://colab.research.google.com/notebooks/data_table.ipynb>data table notebook</a>'\n",
              "            + ' to learn more about interactive tables.';\n",
              "          element.innerHTML = '';\n",
              "          dataTable['output_type'] = 'display_data';\n",
              "          await google.colab.output.renderOutput(dataTable, element);\n",
              "          const docLink = document.createElement('div');\n",
              "          docLink.innerHTML = docLinkHtml;\n",
              "          element.appendChild(docLink);\n",
              "        }\n",
              "      </script>\n",
              "    </div>\n",
              "  </div>\n"
            ]
          },
          "metadata": {},
          "execution_count": 10
        }
      ]
    },
    {
      "cell_type": "markdown",
      "source": [
        "- Nesse exemplo, a lista dados contém trés dicionarios, cada um representando uma linha do daframe.\n",
        "\n",
        "Voce pode acessar os coluna do dataframe usando a notação de colchetes, como em **df['idade']**. Você também pode usar a função **head()** para ver as primeiras linhas do dataframe:"
      ],
      "metadata": {
        "id": "7SuHZDu_v4ON"
      }
    },
    {
      "cell_type": "code",
      "source": [
        "print(df['nome'])\n",
        "print(df.head())"
      ],
      "metadata": {
        "colab": {
          "base_uri": "https://localhost:8080/"
        },
        "id": "-t8tNso3xDHI",
        "outputId": "83fb2de3-67fc-43dd-a326-9141823925eb"
      },
      "execution_count": 11,
      "outputs": [
        {
          "output_type": "stream",
          "name": "stdout",
          "text": [
            "0     João\n",
            "1    Maria\n",
            "2    Pedro\n",
            "Name: nome, dtype: object\n",
            "    nome  idade          cidade\n",
            "0   João     30       São Paulo\n",
            "1  Maria     25  Rio de Janeiro\n",
            "2  Pedro     40  Belo horizonte\n"
          ]
        }
      ]
    },
    {
      "cell_type": "markdown",
      "source": [
        "Além disso, o Pandas oferece muitas funções úteis para manipular dataframes, como **groupby()**, **merge()** e **pivot_table()**. Essas funções permitem agrupar dados, combinar dataframes e criar tabelas dinâmicas, respectivamente.\n",
        "\n",
        "Por exemplo, você pode agrupar os dados por cidade e calcular a média da idade para cada cidade, usando o seguinte código:"
      ],
      "metadata": {
        "id": "sB3bqDzHxYkp"
      }
    },
    {
      "cell_type": "code",
      "source": [
        "df_por_didade = df.groupby('cidade').mean()\n",
        "print(df_por_didade)"
      ],
      "metadata": {
        "id": "kqsHShixyUGB",
        "colab": {
          "base_uri": "https://localhost:8080/"
        },
        "outputId": "d4c2c8f8-af0a-4c46-d3d5-473201334a11"
      },
      "execution_count": 17,
      "outputs": [
        {
          "output_type": "stream",
          "name": "stdout",
          "text": [
            "                idade\n",
            "cidade               \n",
            "Belo horizonte   40.0\n",
            "Rio de Janeiro   25.0\n",
            "São Paulo        30.0\n"
          ]
        },
        {
          "output_type": "stream",
          "name": "stderr",
          "text": [
            "<ipython-input-17-746ebce3b129>:1: FutureWarning: The default value of numeric_only in DataFrameGroupBy.mean is deprecated. In a future version, numeric_only will default to False. Either specify numeric_only or select only columns which should be valid for the function.\n",
            "  df_por_didade = df.groupby('cidade').mean()\n"
          ]
        }
      ]
    },
    {
      "cell_type": "markdown",
      "source": [
        "Como vimos, essas são apenas alguma das funcionalidades oferecidas pelo Pandas para trabalhar com dataframe em Python. A biblioteca também oferece suporte a operações de seleção, filtragem, ordenação e agregação de dados, bem como leitura e gravação de arquivos CSV, Excel e outros formatos."
      ],
      "metadata": {
        "id": "NcCyVyNzzAxP"
      }
    },
    {
      "cell_type": "markdown",
      "source": [
        "# <font color = orange>Para refletir"
      ],
      "metadata": {
        "id": "7zkqziT-064u"
      }
    },
    {
      "cell_type": "markdown",
      "source": [
        "Qual é a principal diferença entre Series e Array em Python, e em que situação cada uma dessa estruturas de dados seriam mais útil em um projeto prático?\n",
        "\n",
        "Em python, \"Series\" e \"Arrays\" geralmente se referem a diferenes estrutura de dados oferecidas por bibliotecas especificas, principalmente pandas e Numpy, respectivamente.\n",
        "\n",
        "##1. **Series(pandas)**:\n",
        "- Uma \"Series\" é uma estrutura de dados unidimencional fornecida pela bilbioteca padas.\n",
        "- Ela é semelhante a uma coluna em uma planilha ou a um vetor em matemática.\n",
        "- Pode conter dados de diferente tipos. mas é otimizada para dados de um tipo único.\n",
        "- Oferece rótulo de índice para acessar os elementos.\n",
        "- Podem se pensada como um colina em um DataFrame, uma estrutura de dados bidimensional do pandas.\n",
        "- Útil para manipulação, análise e transformação de dados tabulares.\n",
        "\n",
        "Quando usar Series(pandas):\n",
        "\n",
        "- Quando você está trabalhando com dados tabulares, como carregar e manipular dados de arquivos CSV ou Excel.\n",
        "- Para análise exploratória de dados, filtragem, agrupamento, ordenação e cálculos em calunas.\n",
        "- Quando precisa associar rótulo e elementos em um vetor unidimensional.\n",
        "\n",
        "##2. **Array(Numpy)**:\n",
        "- Um \"Array\" é um estrutura de dados **multidimencional** fornecida pela biblioteca NumPy.\n",
        "- É uma coleção homogênea de elementos, **normalmente do mesmo tipo**.\n",
        "- Possui vantagem em termos de eficiência computacional e capacidade de realizar operações vetorizadas.\n",
        "- É a base para muitas outras operações **numéricas** e cientificas em Python.\n",
        "- **Não oferece rótulos** de indice como as \"Series\" do Pandas.\n",
        "\n",
        "Quando usar Array(NumPy):\n",
        "- Para cálculos numéricos intensivos, especialmente quadno você precisa realizar operalçoes em larga escala em dados multidimensionais.\n",
        "- Processamento de imagens, sinais, modelagem matemática e estatístisca.\n",
        "- Algoritimo que envolvem manipulação eficiênte de matrizes e vetores.\n",
        "\n",
        "Em resumo, se você esta trabalhando prnicipalmente com análise de dados tabulares e precisa de funcionalidades de manipulação de dados mais avançadas, as \"Series\" do pandas são mais adequadas. Por outro lado, se esta focado em cálculos numéricos e operações em grande escala com matrizes vetores, os \"Array\" do Numpy são a escokha ideal. Muitas Vezes, essas duas estruturas de dados são usadas em conjunto para análise de dados complexa e eficiênte."
      ],
      "metadata": {
        "id": "M3MqLrog1Lp5"
      }
    },
    {
      "cell_type": "markdown",
      "source": [],
      "metadata": {
        "id": "xvPA0xOU8yjK"
      }
    }
  ]
}